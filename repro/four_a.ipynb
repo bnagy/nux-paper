{
 "cells": [
  {
   "cell_type": "code",
   "execution_count": 73,
   "metadata": {},
   "outputs": [],
   "source": [
    "import warnings\n",
    "warnings.filterwarnings('once')\n",
    "\n",
    "from mqdq import babble, elegy, rhyme_classes, rhyme\n",
    "\n",
    "import numpy as np\n",
    "import pandas as pd\n",
    "import scipy as sp\n",
    "\n",
    "import glob\n",
    "import umap\n",
    "import math\n",
    "import re\n",
    "\n",
    "from sklearn.svm import SVC\n",
    "from sklearn.neighbors import KNeighborsClassifier, NearestCentroid\n",
    "from sklearn.pipeline import make_pipeline, Pipeline\n",
    "from sklearn.metrics import pairwise_distances\n",
    "from sklearn.preprocessing import StandardScaler\n",
    "from sklearn.manifold import TSNE"
   ]
  },
  {
   "cell_type": "code",
   "execution_count": 2,
   "metadata": {},
   "outputs": [],
   "source": [
    "nux = babble.Babbler.from_file('./corpus/OV-nux.xml', name='Nux')"
   ]
  },
  {
   "cell_type": "code",
   "execution_count": 42,
   "metadata": {},
   "outputs": [
    {
     "data": {
      "text/plain": [
       "mqdq.rhyme_classes.Line"
      ]
     },
     "execution_count": 42,
     "metadata": {},
     "output_type": "execute_result"
    }
   ],
   "source": [
    "rhyme_classes.Line"
   ]
  },
  {
   "cell_type": "code",
   "execution_count": 78,
   "metadata": {},
   "outputs": [],
   "source": [
    "def find_fours(bab: babble.Babbler) -> list[rhyme_classes.Line]:\n",
    "    fours: list[rhyme_classes.Line] = []\n",
    "    for l in bab._syl_source():\n",
    "        m = 0\n",
    "        try:\n",
    "            m = max([len(x) for x in re.findall(r'a+',''.join([w.syls[-1].translate(rhyme.DEMACRON)[-1] for w in l]))])\n",
    "        except:\n",
    "            pass\n",
    "        if m >= 4:\n",
    "            fours.append(l)\n",
    "    return(fours)\n",
    "            \n"
   ]
  },
  {
   "cell_type": "code",
   "execution_count": 134,
   "metadata": {},
   "outputs": [],
   "source": [
    "def is_four(l: rhyme_classes.Line) -> bool:\n",
    "    lasts = []\n",
    "    for w in l:\n",
    "        if not w.syls:\n",
    "            continue\n",
    "        if (w.syls[-1] == 'kwe' or w.syls[-1]=='_') and len(w.syls) > 1:\n",
    "            lasts.append(w.syls[-2].translate(rhyme.DEMACRON)[-1])\n",
    "        elif w.syls[-1].translate(rhyme.DEMACRON) == 'a_st':\n",
    "            lasts.append('a')\n",
    "        else:\n",
    "            lasts.append(w.syls[-1].translate(rhyme.DEMACRON)[-1])\n",
    "    return(lasts.count('a') >= 4)\n",
    "            \n"
   ]
  },
  {
   "cell_type": "code",
   "execution_count": 119,
   "metadata": {},
   "outputs": [],
   "source": [
    "l = am[0]._syl_source()[12]"
   ]
  },
  {
   "cell_type": "code",
   "execution_count": 120,
   "metadata": {},
   "outputs": [],
   "source": [
    "lasts = []\n",
    "for w in l:\n",
    "    if (w.syls[-1] == 'kwe' or w.syls[-1]=='_') and len(w.syls) > 1:\n",
    "        lasts.append(w.syls[-2].translate(rhyme.DEMACRON)[-1])\n",
    "    else:\n",
    "        lasts.append(w.syls[-1].translate(rhyme.DEMACRON)[-1])"
   ]
  },
  {
   "cell_type": "code",
   "execution_count": 123,
   "metadata": {},
   "outputs": [
    {
     "data": {
      "text/plain": [
       "3"
      ]
     },
     "execution_count": 123,
     "metadata": {},
     "output_type": "execute_result"
    }
   ],
   "source": [
    "lasts.count('a')"
   ]
  },
  {
   "cell_type": "code",
   "execution_count": 122,
   "metadata": {},
   "outputs": [
    {
     "data": {
      "text/plain": [
       "Line([Word(pre_punct='', syls=['Sunt'], post_punct='', mqdq=<word sy=\"1A\" wb=\"CM\">Sunt</word>, color='', best_match=0.0, best_word=None, lock_color=False),\n",
       "      Word(pre_punct='', syls=['`ti', 'bi'], post_punct='', mqdq=<word sy=\"1b1c\" wb=\"DI\">tibi</word>, color='', best_match=0.0, best_word=None, lock_color=False),\n",
       "      Word(pre_punct='', syls=['`man', 'ja'], post_punct=',', mqdq=<word sy=\"2A2b\" wb=\"CF\">magna,</word>, color='', best_match=0.0, best_word=None, lock_color=False),\n",
       "      Word(pre_punct='', syls=['`pu', 'ēr'], post_punct=',', mqdq=<word sy=\"2c3A\" wb=\"CM\">puer,</word>, color='', best_match=0.0, best_word=None, lock_color=False),\n",
       "      Word(pre_punct='', syls=['ni', 'mi', '`ūm', 'kwe'], post_punct='', mqdq=<word sy=\"3b3c4A4b\" wb=\"CF\">nimiumque</word>, color='', best_match=0.0, best_word=None, lock_color=False),\n",
       "      Word(pre_punct='', syls=['po', '`ten', 'ti', 'a'], post_punct='', mqdq=<word sy=\"4c5A5b5c\" wb=\"DI\">potentia</word>, color='', best_match=0.0, best_word=None, lock_color=False),\n",
       "      Word(pre_punct='', syls=['`ren', 'ja'], post_punct=':', mqdq=<word sy=\"6A6X\">regna:</word>, color='', best_match=0.0, best_word=None, lock_color=False)])"
      ]
     },
     "execution_count": 122,
     "metadata": {},
     "output_type": "execute_result"
    }
   ],
   "source": [
    "l\n"
   ]
  },
  {
   "cell_type": "code",
   "execution_count": 54,
   "metadata": {},
   "outputs": [],
   "source": [
    "for i, f in enumerate(find_fours(am[0])):\n",
    "    print(f\"{i}: {' '.join([w.mqdq.text for w in fours[0]])}\")"
   ]
  },
  {
   "cell_type": "code",
   "execution_count": 56,
   "metadata": {},
   "outputs": [],
   "source": [
    "am = babble.multi_bookbabs(sorted(glob.glob('corpus/OV-amo*.xml')), name=\"Am.\")\n",
    "ep = babble.bookbabs('corpus/OV-epis.xml', name=\"Ep.\")\n"
   ]
  },
  {
   "cell_type": "code",
   "execution_count": 55,
   "metadata": {},
   "outputs": [
    {
     "data": {
      "text/plain": [
       "[<line metre=\"H\" name=\"1\" pattern=\"DDDD\">\n",
       " <word sy=\"1A1b\" wb=\"CF\">Arma</word>\n",
       " <word sy=\"1c2A\" wb=\"CM\">graui</word>\n",
       " <word sy=\"2b2c3A\" wb=\"CM\">numero</word>\n",
       " <word sy=\"3b3c4A4b4c\" wb=\"DI\">uiolentaque</word>\n",
       " <word sy=\"5A5b\" wb=\"CF\">bella</word>\n",
       " <word sy=\"5c6A6X\">parabam</word>\n",
       " </line>,\n",
       " <line metre=\"P\" name=\"2\" pattern=\"DD-|DD-\">\n",
       " <word sy=\"1A1b1c\" wb=\"DI\">Edere,</word>\n",
       " <word sy=\"2A2b2c3A\" wb=\"CM\">materia</word>\n",
       " <word sy=\"4A4b4c5A5b\" wb=\"CF\">conueniente</word>\n",
       " <word sy=\"5c6X\">modis.</word>\n",
       " </line>,\n",
       " <line metre=\"H\" name=\"3\" pattern=\"DDSS\">\n",
       " <word sy=\"1A\" wb=\"CM\">Par</word>\n",
       " <word sy=\"1b1c\" wb=\"DI\">erat</word>\n",
       " <word sy=\"2A2b2c3A\" wb=\"CM\">inferior</word>\n",
       " <word sy=\"3T4A\" wb=\"CM\">uersus;</word>\n",
       " <word sy=\"4T5A5b\" wb=\"CF\">risisse</word>\n",
       " <word sy=\"5c6A6X\">Cupido</word>\n",
       " </line>,\n",
       " <line metre=\"P\" name=\"4\" pattern=\"DS-|DD-\">\n",
       " <word sy=\"1A1b1c\" wb=\"DI\">Dicitur</word>\n",
       " <word mf=\"SY\" sy=\"2A\">atque</word>\n",
       " <word sy=\"2T3A\" wb=\"CM\">unum</word>\n",
       " <word sy=\"4A4b4c5A5b\" wb=\"CF\">surripuisse</word>\n",
       " <word sy=\"5c6X\">pedem.</word>\n",
       " </line>,\n",
       " <line metre=\"H\" name=\"5\" pattern=\"DDDS\">\n",
       " <word sy=\"1A\" wb=\"CM\">\"Quis</word>\n",
       " <word sy=\"1b1c\" wb=\"DI\">tibi,</word>\n",
       " <word sy=\"2A2b\" wb=\"CF\">saeue</word>\n",
       " <word sy=\"2c3A\" wb=\"CM\">puer,</word>\n",
       " <word sy=\"3b3c\" wb=\"DI\">dedit</word>\n",
       " <word sy=\"4A\" wb=\"CM\">hoc</word>\n",
       " <word sy=\"4T\" wb=\"DI\">in</word>\n",
       " <word sy=\"5A5b5c\" wb=\"DI\">carmina</word>\n",
       " <word sy=\"6A6X\">iuris?</word>\n",
       " </line>,\n",
       " <line metre=\"P\" name=\"6\" pattern=\"DS-|DD-\">\n",
       " <word sy=\"1A1b1c2A\" wb=\"CM\">Pieridum</word>\n",
       " <word sy=\"2T3A\" wb=\"CM\">uates,</word>\n",
       " <word sy=\"4A\" wb=\"CM\">non</word>\n",
       " <word sy=\"4b4c\" wb=\"DI\">tua,</word>\n",
       " <word sy=\"5A5b\" wb=\"CF\">turba</word>\n",
       " <word sy=\"5c6X\">sumus.</word>\n",
       " </line>,\n",
       " <line metre=\"H\" name=\"7\" pattern=\"SDSD\">\n",
       " <word sy=\"1A\" wb=\"CM\">Quid,</word>\n",
       " <word sy=\"1T\" wb=\"DI\">si</word>\n",
       " <word sy=\"2A2b2c3A\" wb=\"CM\">praeripiat</word>\n",
       " <word sy=\"3T4A\" wb=\"CM\">flauae</word>\n",
       " <word sy=\"4b4c\" wb=\"DI\">Venus</word>\n",
       " <word sy=\"5A5b\" wb=\"CF\">arma</word>\n",
       " <word sy=\"5c6A6X\">Mineruae,</word>\n",
       " </line>,\n",
       " <line metre=\"P\" name=\"8\" pattern=\"DS-|DD-\">\n",
       " <word sy=\"1A1b1c\" wb=\"DI\">Ventilet</word>\n",
       " <word sy=\"2A2T3A\" wb=\"CM\">accensas</word>\n",
       " <word sy=\"4A4b\" wb=\"CF\">flaua</word>\n",
       " <word sy=\"4c5A5b\" wb=\"CF\">Minerua</word>\n",
       " <word sy=\"5c6X\">faces?</word>\n",
       " </line>,\n",
       " <line metre=\"H\" name=\"9\" pattern=\"DSDS\">\n",
       " <word sy=\"1A\" wb=\"CM\">Quis</word>\n",
       " <word sy=\"1b1c\" wb=\"DI\">probet</word>\n",
       " <word sy=\"2A\" wb=\"CM\">in</word>\n",
       " <word sy=\"2T3A\" wb=\"CM\">siluis</word>\n",
       " <word sy=\"3b3c4A\" wb=\"CM\">Cererem</word>\n",
       " <word sy=\"4T5A5b\" wb=\"CF\">regnare</word>\n",
       " <word sy=\"5c6A6X\">iugosis,</word>\n",
       " </line>,\n",
       " <line metre=\"P\" name=\"10\" pattern=\"DS-|DD-\">\n",
       " <word sy=\"1A1b\" wb=\"CF\">Lege</word>\n",
       " <word sy=\"1c2A2T3A\" wb=\"CM\">pharetratae</word>\n",
       " <word sy=\"4A4b4c\" wb=\"DI\">uirginis</word>\n",
       " <word sy=\"5A5b\" wb=\"CF\">arua</word>\n",
       " <word sy=\"5c6X\">coli?</word>\n",
       " </line>,\n",
       " <line metre=\"H\" name=\"11\" pattern=\"DSDS\">\n",
       " <word sy=\"1A1b1c\" wb=\"DI\">Crinibus</word>\n",
       " <word sy=\"2A2T3A\" wb=\"CM\">insignem</word>\n",
       " <word sy=\"3b\" wb=\"CF\">quis</word>\n",
       " <word sy=\"3c4A4T\" wb=\"DI\">acuta</word>\n",
       " <word sy=\"5A5b5c\" wb=\"DI\">cuspide</word>\n",
       " <word sy=\"6A6X\">Phoebum</word>\n",
       " </line>,\n",
       " <line metre=\"P\" name=\"12\" pattern=\"DD-|DD-\">\n",
       " <word sy=\"1A1b1c\" wb=\"DI\">Instruat,</word>\n",
       " <word sy=\"2A2b2c3A\" wb=\"CM\">Aoniam</word>\n",
       " <word sy=\"4A4b\" wb=\"CF\">Marte</word>\n",
       " <word sy=\"4c5A5b\" wb=\"CF\">mouente</word>\n",
       " <word sy=\"5c6X\">lyram?</word>\n",
       " </line>,\n",
       " <line metre=\"H\" name=\"13\" pattern=\"DDDD\">\n",
       " <word sy=\"1A\" wb=\"CM\">Sunt</word>\n",
       " <word sy=\"1b1c\" wb=\"DI\">tibi</word>\n",
       " <word sy=\"2A2b\" wb=\"CF\">magna,</word>\n",
       " <word sy=\"2c3A\" wb=\"CM\">puer,</word>\n",
       " <word sy=\"3b3c4A4b\" wb=\"CF\">nimiumque</word>\n",
       " <word sy=\"4c5A5b5c\" wb=\"DI\">potentia</word>\n",
       " <word sy=\"6A6X\">regna:</word>\n",
       " </line>,\n",
       " <line metre=\"P\" name=\"14\" pattern=\"DS-|DD-\">\n",
       " <word sy=\"1A\" wb=\"CM\">Cur</word>\n",
       " <word sy=\"1b1c\" wb=\"DI\">opus</word>\n",
       " <word sy=\"2A2T3A\" wb=\"CM\">affectas</word>\n",
       " <word sy=\"4A4b4c5A5b\" wb=\"CF\">ambitiose</word>\n",
       " <word sy=\"5c6X\">nouum?</word>\n",
       " </line>,\n",
       " <line metre=\"H\" name=\"15\" pattern=\"DDDD\">\n",
       " <word sy=\"1A\" wb=\"CM\">An,</word>\n",
       " <word sy=\"1b\" wb=\"CF\">quod</word>\n",
       " <word sy=\"1c2A2b\" wb=\"CF\">ubique,</word>\n",
       " <word sy=\"2c3A\" wb=\"CM\">tuum</word>\n",
       " <word mf=\"PE\" sy=\"\">est?</word>\n",
       " <word sy=\"3b3c\" wb=\"DI\">tua</word>\n",
       " <word sy=\"4A\" wb=\"CM\">sunt</word>\n",
       " <word sy=\"4b4c5A5b5c\" wb=\"DI\">Heliconia</word>\n",
       " <word sy=\"6A6X\">Tempe?</word>\n",
       " </line>,\n",
       " <line metre=\"P\" name=\"16\" pattern=\"DS-|DD-\">\n",
       " <word sy=\"1A\" wb=\"CM\">Vix</word>\n",
       " <word sy=\"1b1c2A\" wb=\"CM\">etiam</word>\n",
       " <word sy=\"2T3A\" wb=\"CM\">Phoebo</word>\n",
       " <word sy=\"4A\" wb=\"CM\">iam</word>\n",
       " <word sy=\"4b4c\" wb=\"DI\">lyra</word>\n",
       " <word sy=\"5A5b\" wb=\"CF\">tuta</word>\n",
       " <word sy=\"5c6X\">sua</word>\n",
       " <word mf=\"PE\" sy=\"\">est?</word>\n",
       " </line>,\n",
       " <line metre=\"H\" name=\"17\" pattern=\"DSSD\">\n",
       " <word sy=\"1A\" wb=\"CM\">Cum</word>\n",
       " <word sy=\"1b1c\" wb=\"DI\">bene</word>\n",
       " <word sy=\"2A2T3A\" wb=\"CM\">surrexit</word>\n",
       " <word sy=\"3T4A\" wb=\"CM\">uersu</word>\n",
       " <word sy=\"4b4c\" wb=\"DI\">noua</word>\n",
       " <word sy=\"5A5b5c\" wb=\"DI\">pagina</word>\n",
       " <word sy=\"6A6X\">primo,</word>\n",
       " </line>,\n",
       " <line metre=\"P\" name=\"18\" pattern=\"DS-|DD-\">\n",
       " <word sy=\"1A1b1c2A\" wb=\"CM\">Attenuat</word>\n",
       " <word sy=\"2T3A\" wb=\"CM\">neruos</word>\n",
       " <word sy=\"4A4b4c\" wb=\"DI\">proximus</word>\n",
       " <word sy=\"5A5b\" wb=\"CF\">ille</word>\n",
       " <word sy=\"5c6X\">meos.</word>\n",
       " </line>,\n",
       " <line metre=\"H\" name=\"19\" pattern=\"DDDD\">\n",
       " <word sy=\"1A\" wb=\"CM\">Nec</word>\n",
       " <word sy=\"1b1c\" wb=\"DI\">mihi</word>\n",
       " <word sy=\"2A2b2c3A\" wb=\"CM\">materia</word>\n",
       " <word mf=\"PE\" sy=\"\">est</word>\n",
       " <word sy=\"3b3c4A\" wb=\"CM\">numeris</word>\n",
       " <word sy=\"4b4c5A5b5c\" wb=\"DI\">leuioribus</word>\n",
       " <word sy=\"6A6X\">apta,</word>\n",
       " </line>,\n",
       " <line metre=\"P\" name=\"20\" pattern=\"DS-|DD-\">\n",
       " <word sy=\"1A\" wb=\"CM\">Aut</word>\n",
       " <word sy=\"1b1c\" wb=\"DI\">puer</word>\n",
       " <word sy=\"2A\" wb=\"CM\">aut</word>\n",
       " <word sy=\"2T3A\" wb=\"CM\">longas</word>\n",
       " <word sy=\"4A4b\" wb=\"CF\">compta</word>\n",
       " <word sy=\"4c5A5b\" wb=\"CF\">puella</word>\n",
       " <word sy=\"5c6X\">comas.\"</word>\n",
       " </line>,\n",
       " <line metre=\"H\" name=\"21\" pattern=\"DDSD\">\n",
       " <word sy=\"1A1b\" wb=\"CF\">Questus</word>\n",
       " <word sy=\"1c2A\" wb=\"CM\">eram,</word>\n",
       " <word sy=\"2b2c3A\" wb=\"CM\">pharetra</word>\n",
       " <word sy=\"3T\" wb=\"DI\">cum</word>\n",
       " <word sy=\"4A4b4c\" wb=\"DI\">protinus</word>\n",
       " <word sy=\"5A5b\" wb=\"CF\">ille</word>\n",
       " <word sy=\"5c6A6X\">soluta</word>\n",
       " </line>,\n",
       " <line metre=\"P\" name=\"22\" pattern=\"DD-|DD-\">\n",
       " <word sy=\"1A1b\" wb=\"CF\">Legit</word>\n",
       " <word sy=\"1c\" wb=\"DI\">in</word>\n",
       " <word sy=\"2A2b2c3A\" wb=\"CM\">exitium</word>\n",
       " <word sy=\"4A4b4c\" wb=\"DI\">spicula</word>\n",
       " <word sy=\"5A5b\" wb=\"CF\">facta</word>\n",
       " <word sy=\"5c6X\">meum</word>\n",
       " </line>,\n",
       " <line metre=\"H\" name=\"23\" pattern=\"SDDS\">\n",
       " <word sy=\"1A1T2A2b\" wb=\"CF\">Lunauitque</word>\n",
       " <word sy=\"2c3A\" wb=\"CM\">genu</word>\n",
       " <word sy=\"3b3c4A4T\" wb=\"DI\">sinuosum</word>\n",
       " <word sy=\"5A5b5c\" wb=\"DI\">fortiter</word>\n",
       " <word sy=\"6A6X\">arcum</word>\n",
       " </line>,\n",
       " <line metre=\"P\" name=\"24\" pattern=\"DS-|DD-\">\n",
       " <word sy=\"1A1b\" wb=\"CF\">\"Quodque</word>\n",
       " <word sy=\"1c2A\" wb=\"CM\">canas,</word>\n",
       " <word sy=\"2T3A\" wb=\"CM\">uates,</word>\n",
       " <word sy=\"4A4b4c\" wb=\"DI\">accipe\"</word>\n",
       " <word sy=\"5A5b\" wb=\"CF\">dixit</word>\n",
       " <word sy=\"5c6X\">\"opus.\"</word>\n",
       " </line>,\n",
       " <line metre=\"H\" name=\"25\" pattern=\"DSDD\">\n",
       " <word sy=\"1A\" wb=\"CM\">Me</word>\n",
       " <word sy=\"1b1c2A\" wb=\"CM\">miserum!</word>\n",
       " <word sy=\"2T3A\" wb=\"CM\">certas</word>\n",
       " <word sy=\"3b3c4A\" wb=\"CM\">habuit</word>\n",
       " <word sy=\"4b4c\" wb=\"DI\">puer</word>\n",
       " <word sy=\"5A5b\" wb=\"CF\">ille</word>\n",
       " <word sy=\"5c6A6X\">sagittas:</word>\n",
       " </line>,\n",
       " <line metre=\"P\" name=\"26\" pattern=\"DD-|DD-\">\n",
       " <word sy=\"1A1b\" wb=\"CF\">Vror,</word>\n",
       " <word sy=\"1c\" wb=\"DI\">et</word>\n",
       " <word sy=\"2A\" wb=\"CM\">in</word>\n",
       " <word sy=\"2b2c3A\" wb=\"CM\">uacuo</word>\n",
       " <word sy=\"4A4b4c\" wb=\"DI\">pectore</word>\n",
       " <word sy=\"5A5b\" wb=\"CF\">regnat</word>\n",
       " <word sy=\"5c6X\">Amor.</word>\n",
       " </line>,\n",
       " <line metre=\"H\" name=\"27\" pattern=\"DDDS\">\n",
       " <word sy=\"1A\" wb=\"CM\">Sex</word>\n",
       " <word sy=\"1b1c\" wb=\"DI\">mihi</word>\n",
       " <word sy=\"2A2b\" wb=\"CF\">surgat</word>\n",
       " <word sy=\"2c3A\" wb=\"CM\">opus</word>\n",
       " <word sy=\"3b3c4A\" wb=\"CM\">numeris,</word>\n",
       " <word sy=\"4T\" wb=\"DI\">in</word>\n",
       " <word sy=\"5A5b\" wb=\"CF\">quinque</word>\n",
       " <word sy=\"5c6A6X\">residat;</word>\n",
       " </line>,\n",
       " <line metre=\"P\" name=\"28\" pattern=\"DS-|DD-\">\n",
       " <word sy=\"1A1b1c\" wb=\"DI\">Ferrea</word>\n",
       " <word sy=\"2A\" wb=\"CM\">cum</word>\n",
       " <word sy=\"2T3A\" wb=\"CM\">uestris</word>\n",
       " <word sy=\"4A4b\" wb=\"CF\">bella</word>\n",
       " <word sy=\"4c5A5b\" wb=\"CF\">ualete</word>\n",
       " <word sy=\"5c6X\">modis.</word>\n",
       " </line>,\n",
       " <line metre=\"H\" name=\"29\" pattern=\"DDSD\">\n",
       " <word sy=\"1A1b1c\" wb=\"DI\">Cingere</word>\n",
       " <word sy=\"2A2b2c3A\" wb=\"CM\">litorea</word>\n",
       " <word sy=\"3T4A4b4c\" wb=\"DI\">flauentia</word>\n",
       " <word sy=\"5A5b5c\" wb=\"DI\">tempora</word>\n",
       " <word sy=\"6A6X\">myrto,</word>\n",
       " </line>,\n",
       " <line metre=\"P\" name=\"30\" pattern=\"DS-|DD-\">\n",
       " <word sy=\"1A1b\" wb=\"CF\">Musa</word>\n",
       " <word sy=\"1c\" wb=\"DI\">per</word>\n",
       " <word sy=\"2A2T3A\" wb=\"CM\">undenos</word>\n",
       " <word sy=\"4A4b4c5A5b\" wb=\"CF\">emodulanda</word>\n",
       " <word sy=\"5c6X\">pedes.</word>\n",
       " </line>]"
      ]
     },
     "execution_count": 55,
     "metadata": {},
     "output_type": "execute_result"
    }
   ],
   "source": [
    "am[0].raw_source"
   ]
  },
  {
   "cell_type": "code",
   "execution_count": 138,
   "metadata": {},
   "outputs": [],
   "source": [
    "def fourinate(babs: list[babble.Babbler]) -> None:\n",
    "    ll, fours = 0,0\n",
    "    for b in babs:\n",
    "        ll += len(b._syl_source())\n",
    "        for i, l in enumerate(b._syl_source()):\n",
    "            if is_four(l):\n",
    "                print(f\"{b.name}.{i+1}: {' '.join([w.mqdq.text for w in l])}\")\n",
    "                fours += 1\n",
    "    print(f\"{fours} found in {ll} lines ({fours/ll:.2%})\")"
   ]
  },
  {
   "cell_type": "code",
   "execution_count": 150,
   "metadata": {},
   "outputs": [
    {
     "name": "stdout",
     "output_type": "stream",
     "text": [
      "Ep. 1.31: Atque aliquis posita monstrat fera proelia mensa\n",
      "Ep. 2.16: Mersa foret cana naufraga puppis aqua.\n",
      "Ep. 2.90: Fessaque Bistonia membra lauabis aqua.\n",
      "Ep. 2.110: Munera multa dedi, multa datura fui,\n",
      "Ep. 3.8: Culpa tua est, quamuis haec quoque culpa tua est.\n",
      "Ep. 3.124: Cumque mea patria laus tua uicta iacet?\n",
      "Ep. 4.135: Illa coit firma generis iunctura catena,\n",
      "Ep. 4.156: Da ueniam fassae duraque corda doma.\n",
      "Ep. 5.2: Ista Mycenaea littera facta manu.\n",
      "Ep. 5.98: Causa pudenda tua est; iusta uir arma mouet.\n",
      "Ep. 7.86: Vre; minor culpa poena futura mea est.\n",
      "Ep. 9.136: Truncaque limosa tempora mersit aqua;\n",
      "Ep. 11.69: Fictaque sacra facit dicitque precantia uerba;\n",
      "Ep. 12.70: Aurea barbarica stat dea facta manu.\n",
      "Ep. 12.130: Caesaque uirginea membra paterna manu?\n",
      "Ep. 13.7: Oscula plura uiro mandataque plura dedissem,\n",
      "Ep. 13.112: Languida laetitia soluar ab ipsa mea?\n",
      "Ep. 15.40: Nulla futura tua est, nulla futura tua est.\n",
      "Ep. 15.200: Lesbides, Aeolia nomina dicta lyra,\n",
      "Ep. 15.209: Qui mea uerba ferunt, uellem tua uela referrent.\n",
      "20 found in 2398 lines (0.83%)\n"
     ]
    }
   ],
   "source": [
    "fourinate(ep[:15])"
   ]
  },
  {
   "cell_type": "code",
   "execution_count": 151,
   "metadata": {},
   "outputs": [
    {
     "name": "stdout",
     "output_type": "stream",
     "text": [
      "Ep. 16.104: Caerulea peterem quin mea uota uia.\n",
      "Ep. 16.140: Nullaque de facie nescia terra tua est\n",
      "Ep. 16.144: Famaque de forma paene maligna tua est;\n",
      "Ep. 16.146: Et tua materia gloria uicta sua est.\n",
      "Ep. 16.247: Prodita sunt, memini, tunica tua pectora laxa\n",
      "Ep. 16.275: Non mea sunt summa leuiter districta sagitta\n",
      "Ep. 16.346: Laesa neque est Colcha Thessala terra manu;\n",
      "Ep. 17.188: Flamma recens parua sparsa resedit aqua.\n",
      "Ep. 18.20: Cetera cum charta dextra locuta mea est.\n",
      "Ep. 18.134: Non aliter multa quam uia pressa rota.\n",
      "Ep. 19.10: Ponitis in uaria tempora longa mora;\n",
      "Ep. 19.49: Paucaque cum tacta perfeci stamina terra,\n",
      "Ep. 19.63: Multaque praeterea lingua reticenda modesta,\n",
      "Ep. 19.106: Fataque sint culpa nostra priora tua!\n",
      "Ep. 20.128: Eueniant; poena tuta sit illa mea.\n",
      "Ep. 21.60: Qua mihi te iactes, gratia nulla tua est.\n",
      "Ep. 21.171: Parce laboranti, picta dea laeta pharetra,\n",
      "17 found in 1554 lines (1.09%)\n"
     ]
    }
   ],
   "source": [
    "fourinate(ep[15:])"
   ]
  },
  {
   "cell_type": "code",
   "execution_count": 153,
   "metadata": {},
   "outputs": [
    {
     "name": "stdout",
     "output_type": "stream",
     "text": [
      "Ep. 16.104: Caerulea peterem quin mea uota uia.\n",
      "Ep. 16.140: Nullaque de facie nescia terra tua est\n",
      "Ep. 16.144: Famaque de forma paene maligna tua est;\n",
      "Ep. 16.146: Et tua materia gloria uicta sua est.\n",
      "Ep. 16.247: Prodita sunt, memini, tunica tua pectora laxa\n",
      "Ep. 16.275: Non mea sunt summa leuiter districta sagitta\n",
      "Ep. 16.346: Laesa neque est Colcha Thessala terra manu;\n",
      "7 found in 376 lines (1.86%)\n"
     ]
    }
   ],
   "source": [
    "fourinate([ep[15]])"
   ]
  },
  {
   "cell_type": "code",
   "execution_count": 140,
   "metadata": {},
   "outputs": [
    {
     "name": "stdout",
     "output_type": "stream",
     "text": [
      "Am. 1 3.20: Prouenient causa carmina digna sua.\n",
      "Am. 1 4.12: Da mea nec tepidis uerba ferenda Notis.\n",
      "Am. 1 5.9: Ecce, Corinna uenit tunica uelata recincta,\n",
      "Am. 1 5.10: Candida diuidua colla tegente coma,\n",
      "Am. 1 7.4: Flet mea uesana laesa puella manu.\n",
      "Am. 1 8.77: Surda sit oranti tua ianua, laxa ferenti;\n",
      "Am. 1 8.80: Vanescit culpa culpa repensa tua.\n",
      "Am. 1 11.14: Cetera fert blanda cera notata manu.\n",
      "Am. 1 14.43: Facta manu culpaque tua dispendia sentis;\n",
      "Am. 1 15.36: Pocula Castalia plena ministret aqua,\n",
      "Am. 2 3.10: Sunt tibi cum domina signa ferenda tua.\n",
      "Am. 2 4.42: Leda fuit nigra conspicienda coma;\n",
      "Am. 2 5.12: Cui petitur uicta palma cruenta rea.\n",
      "Am. 2 5.58: Lingua tua est nostris, nostra recepta tuis.\n",
      "Am. 2 6.6: Pro longa resonent carmina uestra tuba.\n",
      "Am. 2 10.26: Decepta est opera nulla puella mea;\n",
      "Am. 2 11.42: Ipsa tua moueas turgida uela manu.\n",
      "Am. 2 13.4: Ira digna mea, sed cadit ira metu.\n",
      "Am. 2 18.13: Sceptra tamen sumpsi curaque tragoedia nostra\n",
      "Am. 3 2.81: Sunt dominae rata uota meae, mea uota supersunt;\n",
      "Am. 3 4.16: Frenaque in effusa laxa iacere iuba.\n",
      "Am. 3 7.9: Osculaque inseruit cupida luctantia lingua\n",
      "Am. 3 7.13: Tacta tamen ueluti gelida mea membra cicuta\n",
      "Am. 3 7.81: Nec mora, desiluit tunica uelata soluta\n",
      "Am. 3 8.40: Pomaque et in quercu mella reperta caua.\n",
      "Am. 3 9.67: Ossa quieta, precor, tuta requiescite in urna,\n",
      "Am. 3 11.29: Iam mea uotiua puppis redimita corona\n",
      "Am. 3 12.10: Vendibilis culpa facta puella mea est.\n",
      "28 found in 2454 lines (1.14%)\n"
     ]
    }
   ],
   "source": [
    "fourinate(am)"
   ]
  },
  {
   "cell_type": "code",
   "execution_count": 141,
   "metadata": {},
   "outputs": [
    {
     "name": "stdout",
     "output_type": "stream",
     "text": [
      "Prop. 1 11.10: Paruula Lucrina cumba moretur aqua,\n",
      "Prop. 1 11.17: Non quia perspecta non es mihi cognita fama,\n",
      "Prop. 1 16.27: O utinam traiecta caua mea uocula rima\n",
      "Prop. 1 18.14: Non ita saeua tamen uenerit ira mea,\n",
      "Prop. 1 19.15: Quarum nulla tua fuerit mihi, Cynthia, forma\n",
      "Prop. 2 1.34: Actiaque in Sacra currere rostra Via,\n",
      "Prop. 2 3.10: (Lilia non domina sint magis alba mea;\n",
      "Prop. 2 5.28: \"Cynthia, forma potens: Cynthia, uerba leuis.\"\n",
      "Prop. 2 6.32: Orgia sub tacita condita laetitia!\n",
      "Prop. 2 7.12: Tibia, funesta tristior illa tuba!\n",
      "Prop. 2 8.11: Munera quanta dedi uel qualia carmina feci!\n",
      "Prop. 2 9.36: Siue ea causa grauis, siue ea causa leuis.\n",
      "Prop. 2 10.8: Bella canam, quando scripta puella mea est.\n",
      "Prop. 2 12.22: (Haec mea Musa leuis gloria magna tua est),\n",
      "Prop. 2 14.25: Magna ego dona tua figam, Cytherea, columna,\n",
      "Prop. 2 16.2: Maxima praeda tibi, maxima cura mihi.\n",
      "Prop. 2 19.31: Quin ego in assidua metuam tua nomina lingua:\n",
      "Prop. 2 24.14: Quaeque nitent Sacra uilia dona uia.\n",
      "Prop. 2 25.1: Vnica nata meo, pulcherrima cura, dolori,\n",
      "Prop. 2 25.48: Vna sat est cuiuis femina multa mala.\n",
      "Prop. 2 26.1: Vidi te in somnis fracta, mea uita, carina\n",
      "Prop. 2 33.16: Cur tibi tam longa Roma petita uia?\n",
      "Prop. 3 1.18: Detulit intacta pagina nostra uia.\n",
      "Prop. 3 3.8: Regiaque Aemilia uecta tropaea rate,\n",
      "Prop. 3 3.52: Ora Philitea nostra rigauit aqua.\n",
      "Prop. 3 5.2: Stant mihi cum domina proelia dura mea.\n",
      "Prop. 3 6.17: Vmidaque impressa siccabat lumina lana,\n",
      "Prop. 3 16.28: Me tegat arborea deuia terra coma,\n",
      "Prop. 3 18.22: Est mala, sed cunctis ista terenda uia est.\n",
      "Prop. 3 18.23: Exoranda canis tria sunt latrantia colla,\n",
      "Prop. 3 19.15: Crimen et illa fuit, patria succensa senecta\n",
      "Prop. 3 19.21: Tuque o Minoa uenumdata, Scylla, figura,\n",
      "Prop. 3 19.22: Tondes purpurea regna paterna coma.\n",
      "Prop. 3 20.17: Foedera sunt ponenda prius signandaque iura\n",
      "Prop. 3 22.13: Qua rudis Argoa natat inter saxa columba\n",
      "Prop. 3 24.19: Mens Bona, si qua dea es, tua me in sacraria dono!\n",
      "Prop. 4 1.61: Ennius hirsuta cingat sua dicta Corona:\n",
      "Prop. 4 1.69: Sacra diesque canam et cognomina prisca locorum:\n",
      "Prop. 4 1.74: Poscis ab inuita uerba pigenda lyra.\n",
      "Prop. 4 3.30: Si qua relicta iacent, osculor arma tua;\n",
      "Prop. 4 4.49: Lubrica tota uia est et perfida: quippe tacentis\n",
      "Prop. 4 7.42: Garrula de facie si qua locuta mea est;\n",
      "Prop. 4 7.61: Qua numerosa fides quaque aera rotunda Cybebes\n",
      "Prop. 4 10.20: Et galea hirsuta compta lupina iuba.\n",
      "Prop. 4 11.20: In mea sortita iudicet ossa pila:\n",
      "Prop. 4 11.26: Et iaceat tacita laxa catena sera.\n",
      "46 found in 4009 lines (1.15%)\n"
     ]
    }
   ],
   "source": [
    "fourinate(prop)"
   ]
  },
  {
   "cell_type": "code",
   "execution_count": 143,
   "metadata": {},
   "outputs": [
    {
     "name": "stdout",
     "output_type": "stream",
     "text": [
      "Nux.22: Vuaque laesa domum laesaque baca uenit;\n",
      "Nux.26: Ista Clytaemestra digna querela fuit.\n",
      "Nux.90: Non a uicina puluerulenta uia est.\n",
      "Nux.114: Spinaque uindicta cetera tuta sua est.\n",
      "Nux.116: Missa petunt auida saxa proterua manu.\n",
      "5 found in 182 lines (2.75%)\n"
     ]
    }
   ],
   "source": [
    "fourinate([nux])"
   ]
  },
  {
   "cell_type": "code",
   "execution_count": 82,
   "metadata": {},
   "outputs": [],
   "source": [
    "pon = babble.multi_bookbabs(sorted(glob.glob('corpus/OV-pon*.xml')), name=\"Pont.\")"
   ]
  },
  {
   "cell_type": "code",
   "execution_count": 144,
   "metadata": {},
   "outputs": [
    {
     "name": "stdout",
     "output_type": "stream",
     "text": [
      "Pont. 1 2.21: Portaque uix firma summouet arma sera.\n",
      "Pont. 1 2.37: Et grauior longa fit mea poena mora.\n",
      "Pont. 1 2.69: Lenia pro misera fac modo uerba fuga.\n",
      "Pont. 1 2.107: Ossa nec a Scythica nostra premantur humo,\n",
      "Pont. 1 2.123: Clausit et aeterna ciuica bella sera:\n",
      "Pont. 1 3.60: Altera Sarmatica spicula missa manu.\n",
      "Pont. 1 5.61: Cur ego sollicita poliam mea carmina cura?\n",
      "Pont. 1 6.32: Liberaque a ferro crura futura putet.\n",
      "Pont. 1 10.28: Membraque sunt cera pallidiora noua.\n",
      "Pont. 2 2.41: Verbaque nostra fauens Romana ad numina perfer,\n",
      "Pont. 2 6.12: Qua mea debuerit currere cumba uia?\n",
      "Pont. 2 9.62: Lucida Pieria tendis in astra uia.\n",
      "Pont. 2 9.69: Nec mea subiecta conuicta est gemma tabella\n",
      "Pont. 3 1.88: Vtque ea non teneas, tuta repulsa tua est.\n",
      "Pont. 3 3.67: Per mea tela, faces, et per mea tela, sagittas,\n",
      "Pont. 3 4.66: Dicta putet! pro se Musa locuta mea est.\n",
      "Pont. 3 4.110: Textaque fortuna diuitiora sua,\n",
      "Pont. 3 6.7: Quanta sit in media clementia Caesaris ira,\n",
      "Pont. 3 8.11: Femina pro lana Cerealia munera frangit,\n",
      "Pont. 3 8.19: Clausa tamen misi Scythica tibi tela pharetra:\n",
      "Pont. 4 1.32: Bellica Phidiaca stat dea facta manu:\n",
      "Pont. 4 3.5: Dum mea puppis erat ualida fundata carina,\n",
      "Pont. 4 3.22: Nam nisi iusta tua est, iusta querela mea est.\n",
      "Pont. 4 8.88: Magnaque quam minima facta referre mora.\n",
      "Pont. 4 9.105: Nec pietas ignota mea est: uidet hospita terra\n",
      "Pont. 4 12.14: Et sit porrecta longa secunda mora.\n",
      "Pont. 4 14.5: Ipsa quoque est inuisa salus, suntque ultima uota\n",
      "Pont. 4 14.55: Tempora sacrata mea sunt uelata corona,\n",
      "Pont. 4 15.15: Quam tua Trinacria est regnataque terra Philippo,\n",
      "29 found in 3192 lines (0.91%)\n"
     ]
    }
   ],
   "source": [
    "fourinate(pon)"
   ]
  },
  {
   "cell_type": "code",
   "execution_count": 84,
   "metadata": {},
   "outputs": [],
   "source": [
    "tr = babble.multi_bookbabs(sorted(glob.glob('corpus/OV-tri*.xml')), name=\"Tr.\")"
   ]
  },
  {
   "cell_type": "code",
   "execution_count": 145,
   "metadata": {},
   "outputs": [
    {
     "name": "stdout",
     "output_type": "stream",
     "text": [
      "Tr. 1 1.85: Et mea cumba semel uasta percussa procella\n",
      "Tr. 1 1.128: Vltimus, a terra terra remota mea.\n",
      "Tr. 1 2.84: Quodque sit a patria tam fuga tarda, queror.\n",
      "Tr. 1 3.8: Torquerant longa pectora nostra mora.\n",
      "Tr. 1 11.12: Omnis ab hac cura cura leuata mea est.\n",
      "Tr. 2 1.127: Vita data est, citraque necem tua constitit ira,\n",
      "Tr. 2 1.172: Ponat et in nitida laurea serta coma,\n",
      "Tr. 2 1.186: Pars erit ex poena magna leuata mea.\n",
      "Tr. 2 1.214: Et sunt notitia multa minora tua;\n",
      "Tr. 2 1.313: At cur in nostra nimia est lasciuia Musa,\n",
      "Tr. 2 1.354: (Vita uerecunda est, Musa iocosa mea)\n",
      "Tr. 3 2.6: Quodque magis uita Musa iocata mea est:\n",
      "Tr. 3 4.69: Quod quoniam est anceps, intra mea pectora quemque\n",
      "Tr. 3 4.75: Et qua quisque potest, aliqua mala nostra leuate,\n",
      "Tr. 3 5.19: Multaque praeterea manifestaque signa fauoris\n",
      "Tr. 3 7.8: Nec mala tam longa nostra leuata mora:\n",
      "Tr. 3 10.24: Vina, nec hausta meri, sed data frusta bibunt.\n",
      "Tr. 3 11.33: Omnia uera puta mea crimina, nil sit in illis,\n",
      "Tr. 3 14.9: Est fuga dicta mihi, non est fuga dicta libellis,\n",
      "Tr. 4 2.46: Vincula fert illa, qua tulit arma, manu.\"\n",
      "Tr. 4 2.73: Illa dies ueniet, mea qua lugubria ponam,\n",
      "Tr. 4 3.40: Mors mea, morte fores sola relicta mea.\n",
      "Tr. 4 3.76: Publica uirtutis per mala facta uia est.\n",
      "Tr. 4 4.36: Vltima si demas, uita tuenda mea est.\n",
      "Tr. 4 4.85: Atque mea terra prope sunt funebria sacra,\n",
      "Tr. 4 6.32: Quam cui sunt tarda brachia fessa mora.\n",
      "Tr. 4 10.50: Dum ferit Ausonia carmina culta lyra.\n",
      "Tr. 4 10.56: Notaque non tarde facta Thalia mea est.\n",
      "Tr. 4 10.75: Filia me mea bis prima fecunda iuuenta,\n",
      "Tr. 4 10.102: Ipsa multa tuli non leuiora fuga.\n",
      "Tr. 5 4.2: Lassaque facta mari lassaque facta uia,\n",
      "Tr. 5 5.19: Illa domo nataque sua patriaque fruatur\n",
      "Tr. 5 7.18: Non coma, non ulla barba resecta manu,\n",
      "Tr. 5 9.31: Sic mea lege data uincta atque inclusa Thalia\n",
      "Tr. 5 10.32: Pellibus et longa pectora tecta coma.\n",
      "Tr. 5 14.23: Area de nostra nunc est tibi facta ruina;\n",
      "36 found in 3532 lines (1.02%)\n"
     ]
    }
   ],
   "source": [
    "fourinate(tr)"
   ]
  },
  {
   "cell_type": "code",
   "execution_count": 97,
   "metadata": {},
   "outputs": [
    {
     "name": "stdout",
     "output_type": "stream",
     "text": [
      "Prop. 1 16.26: O utinam traiecta caua mea uocula rima\n",
      "Prop. 2 24.13: Quaeque nitent Sacra uilia dona uia.\n",
      "Prop. 2 26.0: Vidi te in somnis fracta, mea uita, carina\n",
      "Prop. 2 33.15: Cur tibi tam longa Roma petita uia?\n",
      "Prop. 3 1.17: Detulit intacta pagina nostra uia.\n",
      "Prop. 3 5.1: Stant mihi cum domina proelia dura mea.\n",
      "Prop. 3 16.27: Me tegat arborea deuia terra coma,\n",
      "Prop. 3 19.20: Tuque o Minoa uenumdata, Scylla, figura,\n",
      "Prop. 3 19.21: Tondes purpurea regna paterna coma.\n",
      "Prop. 4 1.73: Poscis ab inuita uerba pigenda lyra.\n",
      "Prop. 4 10.19: Et galea hirsuta compta lupina iuba.\n",
      "Prop. 4 11.25: Et iaceat tacita laxa catena sera.\n"
     ]
    }
   ],
   "source": [
    "prop = babble.multi_bookbabs(sorted(glob.glob('corpus/PROP-ele*.xml')), name=\"Prop.\")"
   ]
  },
  {
   "cell_type": "code",
   "execution_count": 136,
   "metadata": {},
   "outputs": [
    {
     "name": "stdout",
     "output_type": "stream",
     "text": [
      "Prop. 1 11.10: Paruula Lucrina cumba moretur aqua,\n",
      "Prop. 1 11.17: Non quia perspecta non es mihi cognita fama,\n",
      "Prop. 1 16.27: O utinam traiecta caua mea uocula rima\n",
      "Prop. 1 18.14: Non ita saeua tamen uenerit ira mea,\n",
      "Prop. 1 19.15: Quarum nulla tua fuerit mihi, Cynthia, forma\n",
      "Prop. 2 1.34: Actiaque in Sacra currere rostra Via,\n",
      "Prop. 2 3.10: (Lilia non domina sint magis alba mea;\n",
      "Prop. 2 5.28: \"Cynthia, forma potens: Cynthia, uerba leuis.\"\n",
      "Prop. 2 6.32: Orgia sub tacita condita laetitia!\n",
      "Prop. 2 7.12: Tibia, funesta tristior illa tuba!\n",
      "Prop. 2 8.11: Munera quanta dedi uel qualia carmina feci!\n",
      "Prop. 2 9.36: Siue ea causa grauis, siue ea causa leuis.\n",
      "Prop. 2 10.8: Bella canam, quando scripta puella mea est.\n",
      "Prop. 2 12.22: (Haec mea Musa leuis gloria magna tua est),\n",
      "Prop. 2 14.25: Magna ego dona tua figam, Cytherea, columna,\n",
      "Prop. 2 16.2: Maxima praeda tibi, maxima cura mihi.\n",
      "Prop. 2 19.31: Quin ego in assidua metuam tua nomina lingua:\n",
      "Prop. 2 24.14: Quaeque nitent Sacra uilia dona uia.\n",
      "Prop. 2 25.1: Vnica nata meo, pulcherrima cura, dolori,\n",
      "Prop. 2 25.48: Vna sat est cuiuis femina multa mala.\n",
      "Prop. 2 26.1: Vidi te in somnis fracta, mea uita, carina\n",
      "Prop. 2 33.16: Cur tibi tam longa Roma petita uia?\n",
      "Prop. 3 1.18: Detulit intacta pagina nostra uia.\n",
      "Prop. 3 3.8: Regiaque Aemilia uecta tropaea rate,\n",
      "Prop. 3 3.52: Ora Philitea nostra rigauit aqua.\n",
      "Prop. 3 5.2: Stant mihi cum domina proelia dura mea.\n",
      "Prop. 3 6.17: Vmidaque impressa siccabat lumina lana,\n",
      "Prop. 3 16.28: Me tegat arborea deuia terra coma,\n",
      "Prop. 3 18.22: Est mala, sed cunctis ista terenda uia est.\n",
      "Prop. 3 18.23: Exoranda canis tria sunt latrantia colla,\n",
      "Prop. 3 19.15: Crimen et illa fuit, patria succensa senecta\n",
      "Prop. 3 19.21: Tuque o Minoa uenumdata, Scylla, figura,\n",
      "Prop. 3 19.22: Tondes purpurea regna paterna coma.\n",
      "Prop. 3 20.17: Foedera sunt ponenda prius signandaque iura\n",
      "Prop. 3 22.13: Qua rudis Argoa natat inter saxa columba\n",
      "Prop. 3 24.19: Mens Bona, si qua dea es, tua me in sacraria dono!\n",
      "Prop. 4 1.61: Ennius hirsuta cingat sua dicta Corona:\n",
      "Prop. 4 1.69: Sacra diesque canam et cognomina prisca locorum:\n",
      "Prop. 4 1.74: Poscis ab inuita uerba pigenda lyra.\n",
      "Prop. 4 3.30: Si qua relicta iacent, osculor arma tua;\n",
      "Prop. 4 4.49: Lubrica tota uia est et perfida: quippe tacentis\n",
      "Prop. 4 7.42: Garrula de facie si qua locuta mea est;\n",
      "Prop. 4 7.61: Qua numerosa fides quaque aera rotunda Cybebes\n",
      "Prop. 4 10.20: Et galea hirsuta compta lupina iuba.\n",
      "Prop. 4 11.20: In mea sortita iudicet ossa pila:\n",
      "Prop. 4 11.26: Et iaceat tacita laxa catena sera.\n",
      "46 found in 4009 lines (1.15%)\n"
     ]
    }
   ],
   "source": [
    "ll, fours = 0,0\n",
    "for b in prop:\n",
    "    ll += len(b._syl_source())\n",
    "    for i, l in enumerate(b._syl_source()):\n",
    "        if is_four(l):\n",
    "            print(f\"{b.name}.{i+1}: {' '.join([w.mqdq.text for w in l])}\")\n",
    "            fours += 1\n",
    "print(f\"{fours} found in {ll} lines ({fours/ll:.2%})\")"
   ]
  },
  {
   "cell_type": "code",
   "execution_count": 103,
   "metadata": {},
   "outputs": [
    {
     "name": "stdout",
     "output_type": "stream",
     "text": [
      "Ep. 5.1: Ista Mycenaea littera facta manu.\n",
      "Ep. 15.199: Lesbides, Aeolia nomina dicta lyra,\n",
      "Ep. 16.246: Prodita sunt, memini, tunica tua pectora laxa\n",
      "Ep. 19.9: Ponitis in uaria tempora longa mora;\n",
      "Ep. 19.62: Multaque praeterea lingua reticenda modesta,\n",
      "Ep. 19.105: Fataque sint culpa nostra priora tua!\n",
      "Ep. 21.170: Parce laboranti, picta dea laeta pharetra,\n",
      "7 found in 3952 lines (0.18%)\n"
     ]
    }
   ],
   "source": [
    "ll, fours = 0,0\n",
    "for b in ep:\n",
    "    ll += len(b._syl_source())\n",
    "    for i, l in enumerate(b._syl_source()):\n",
    "        if is_four(l):\n",
    "            print(f\"{b.name}.{i}: {' '.join([w.mqdq.text for w in l])}\")\n",
    "            fours += 1\n",
    "print(f\"{fours} found in {ll} lines ({fours/ll:.2%})\")"
   ]
  },
  {
   "cell_type": "code",
   "execution_count": 146,
   "metadata": {},
   "outputs": [],
   "source": [
    "tib = babble.multi_bookbabs(sorted(glob.glob('corpus/TIB-ele*.xml')), name=\"Tib.\")"
   ]
  },
  {
   "cell_type": "code",
   "execution_count": 147,
   "metadata": {},
   "outputs": [
    {
     "name": "stdout",
     "output_type": "stream",
     "text": [
      "Tib. 1 2.6: Clauditur et dura ianua firma sera.\n",
      "Tib. 1 2.11: Et mala siqua tibi dixit dementia nostra,\n",
      "Tib. 1 3.24: Illa tua totiens aera repulsa manu,\n",
      "Tib. 1 5.14: Omina ter salsa deueneranda mola:\n",
      "Tib. 1 6.28: Sobria supposita pocula uictor aqua.\n",
      "Tib. 1 9.49: Illa uelim rapida Vulcanus carmina flamma\n",
      "Tib. 1 10.26: Hostiaque e plena rustica porcus hara.\n",
      "Tib. 1 10.40: Occupat in parua pigra senecta casa!\n",
      "Tib. 2 1.16: Vinctaque post olea candida turba comas.\n",
      "Tib. 2 3.51: Fictaque Cumana lubrica terra rota.\n",
      "Tib. 2 3.79: Nunc si clausa mea est, si copia rara uidendi,\n",
      "11 found in 1241 lines (0.89%)\n"
     ]
    }
   ],
   "source": [
    "fourinate(tib)"
   ]
  },
  {
   "cell_type": "code",
   "execution_count": 99,
   "metadata": {},
   "outputs": [],
   "source": [
    "cat = babble.bookbabs('corpus/CATVLL-carm.xml', name=\"Cat.\")\n",
    "cat_ele = [x for x in cat if x.elegiac and len(x) > 20]"
   ]
  },
  {
   "cell_type": "code",
   "execution_count": 148,
   "metadata": {},
   "outputs": [
    {
     "name": "stdout",
     "output_type": "stream",
     "text": [
      "Cat. 66.85: Illius a! mala dona leuis bibat irrita puluis;\n",
      "Cat. 68.23: Omnia tecum una perierunt gaudia nostra,\n",
      "Cat. 68.94: Omnia tecum una perierunt gaudia nostra,\n",
      "Cat. 68.112: Tempore quo certa Stymphalia monstra sagitta\n",
      "Cat. 68.142: Nec tamen illa mihi dextra deducta paterna\n",
      "5 found in 351 lines (1.42%)\n"
     ]
    }
   ],
   "source": [
    "fourinate(cat_ele)"
   ]
  },
  {
   "cell_type": "code",
   "execution_count": null,
   "metadata": {},
   "outputs": [],
   "source": []
  }
 ],
 "metadata": {
  "kernelspec": {
   "display_name": "py39",
   "language": "python",
   "name": "python3"
  },
  "language_info": {
   "codemirror_mode": {
    "name": "ipython",
    "version": 3
   },
   "file_extension": ".py",
   "mimetype": "text/x-python",
   "name": "python",
   "nbconvert_exporter": "python",
   "pygments_lexer": "ipython3",
   "version": "3.9.11"
  },
  "orig_nbformat": 4,
  "vscode": {
   "interpreter": {
    "hash": "208657b13d9d01f546253097cf6f870938d682edd7d0d269d6436fd16db9d0e7"
   }
  }
 },
 "nbformat": 4,
 "nbformat_minor": 2
}

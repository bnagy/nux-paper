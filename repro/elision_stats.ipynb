{
 "cells": [
  {
   "cell_type": "code",
   "execution_count": 1,
   "metadata": {},
   "outputs": [],
   "source": [
    "from mqdq import babble, ngrams, elegy\n",
    "from mqdq import line_analyzer as la\n",
    "\n",
    "import numpy as np\n",
    "import pandas as pd\n",
    "\n",
    "from collections import defaultdict"
   ]
  },
  {
   "cell_type": "code",
   "execution_count": 3,
   "metadata": {},
   "outputs": [],
   "source": [
    "non_elegy = []\n",
    "\n",
    "aen_single_bab = babble.Babbler.from_file(\n",
    "    \"corpus/VERG-aene.xml\", name=\"Aeneid\", author=\"Vergil\"\n",
    ")\n",
    "non_elegy.append(aen_single_bab)\n",
    "\n",
    "geo_single_bab = babble.Babbler.from_file(\n",
    "    \"corpus/VERG-geor.xml\", name=\"Georgics\", author=\"Vergil\"\n",
    ")\n",
    "non_elegy.append(geo_single_bab)\n",
    "\n",
    "sat_single_bab = babble.Babbler.from_file(\n",
    "    \"corpus/IVV-satu.xml\", name=\"Juv. Sat.\", author=\"Juvenal\"\n",
    ")\n",
    "non_elegy.append(sat_single_bab)\n",
    "\n",
    "puni_single_bab = babble.Babbler.from_file(\n",
    "    \"corpus/SIL-puni.xml\", name=\"Punica\", author=\"Silius\"\n",
    ")\n",
    "non_elegy.append(puni_single_bab)\n",
    "\n",
    "theb_single_bab = babble.Babbler.from_file(\n",
    "    \"corpus/STAT-theb.xml\", name=\"Thebaid\", author=\"Statius\"\n",
    ")\n",
    "non_elegy.append(theb_single_bab)\n",
    "\n",
    "phars_single_bab = babble.Babbler.from_file(\n",
    "    \"corpus/LVCAN-phar.xml\", name=\"Pharsalia\", author=\"Lucan\"\n",
    ")\n",
    "non_elegy.append(phars_single_bab)\n",
    "\n",
    "arg_single_bab = babble.Babbler.from_file(\n",
    "    \"corpus/VAL_FL-argo.xml\", name=\"Argonautica\", author=\"V.Flaccus\"\n",
    ")\n",
    "non_elegy.append(arg_single_bab)\n",
    "\n",
    "rena_single_bab = babble.Babbler.from_file(\n",
    "    \"corpus/LVCR-rena.xml\", name=\"DRN\", author=\"Lucretius\"\n",
    ")\n",
    "non_elegy.append(rena_single_bab)\n",
    "\n",
    "horsat_single_bab = babble.Babbler.from_file(\n",
    "    *sorted(glob.glob(\"corpus/HOR-sat*.xml\")), name=\"Hor. Sat.\", author=\"Horace\"\n",
    ")\n",
    "non_elegy.append(horsat_single_bab)"
   ]
  },
  {
   "cell_type": "code",
   "execution_count": 4,
   "metadata": {},
   "outputs": [],
   "source": [
    "def subsample(\n",
    "    ary: list[babble.Babbler], mu, sd: float, n: int, min_length: int = 0\n",
    ") -> list[babble.Babbler]:\n",
    "    samps: list[babble.Babbler] = []\n",
    "    lengths = [\n",
    "        x for x in np.random.normal(mu, sd, n * 2).astype(\"int\") if x > min_length\n",
    "    ]\n",
    "    for i in range(n):\n",
    "        work = ary[i % len(ary)]\n",
    "        l = lengths[i]\n",
    "        start = np.random.randint(len(work) - l)\n",
    "        b = babble.Babbler(\n",
    "            work.raw_source[start : start + l],\n",
    "            name=f\"{i}-{work.name}\",\n",
    "            author=work.author,\n",
    "        )\n",
    "        samps.append(b)\n",
    "    return samps"
   ]
  },
  {
   "cell_type": "code",
   "execution_count": 5,
   "metadata": {},
   "outputs": [
    {
     "data": {
      "text/plain": [
       "['Vergil',\n",
       " 'Vergil',\n",
       " 'Juvenal',\n",
       " 'Silius',\n",
       " 'Statius',\n",
       " 'Lucan',\n",
       " 'V.Flaccus',\n",
       " 'Lucretius',\n",
       " 'Horace']"
      ]
     },
     "execution_count": 5,
     "metadata": {},
     "output_type": "execute_result"
    }
   ],
   "source": [
    "[b.author for b in non_elegy]"
   ]
  },
  {
   "cell_type": "code",
   "execution_count": 6,
   "metadata": {},
   "outputs": [],
   "source": [
    "non_elegy_samples = subsample(non_elegy, 100, 10, 900)"
   ]
  },
  {
   "cell_type": "code",
   "execution_count": 12,
   "metadata": {},
   "outputs": [],
   "source": [
    "hexameter = defaultdict(list)\n",
    "\n",
    "for b in non_elegy_samples:\n",
    "    elisions = sum([la.elision_count(l) for l in b.raw_source])\n",
    "    hexameter[f\"{b.author}-{b.name.split('-')[1]}\"].append(elisions/len(b.raw_source))"
   ]
  },
  {
   "cell_type": "code",
   "execution_count": 15,
   "metadata": {},
   "outputs": [
    {
     "name": "stdout",
     "output_type": "stream",
     "text": [
      "Vergil-Aeneid            : Mean: 0.54 Std: 0.08\n",
      "Vergil-Georgics          : Mean: 0.50 Std: 0.06\n",
      "Juvenal-Juv. Sat.        : Mean: 0.35 Std: 0.09\n",
      "Silius-Punica            : Mean: 0.44 Std: 0.07\n",
      "Statius-Thebaid          : Mean: 0.38 Std: 0.08\n",
      "Lucan-Pharsalia          : Mean: 0.13 Std: 0.04\n",
      "V.Flaccus-Argonautica    : Mean: 0.27 Std: 0.07\n",
      "Lucretius-DRN            : Mean: 0.45 Std: 0.10\n",
      "Horace-Hor. Sat.         : Mean: 0.41 Std: 0.12\n"
     ]
    }
   ],
   "source": [
    "for k, v in hexameter.items():\n",
    "    print(f\"{k:<25}: Mean: {np.mean(v):.2f} Std: {np.std(v):.2f}\")"
   ]
  },
  {
   "cell_type": "code",
   "execution_count": null,
   "metadata": {},
   "outputs": [],
   "source": [
    "short_elegy = pd.read_csv('elegy_poetic.csv',index_col=0)"
   ]
  },
  {
   "cell_type": "code",
   "execution_count": null,
   "metadata": {},
   "outputs": [
    {
     "data": {
      "text/html": [
       "<div>\n",
       "<style scoped>\n",
       "    .dataframe tbody tr th:only-of-type {\n",
       "        vertical-align: middle;\n",
       "    }\n",
       "\n",
       "    .dataframe tbody tr th {\n",
       "        vertical-align: top;\n",
       "    }\n",
       "\n",
       "    .dataframe thead th {\n",
       "        text-align: right;\n",
       "    }\n",
       "</style>\n",
       "<table border=\"1\" class=\"dataframe\">\n",
       "  <thead>\n",
       "    <tr style=\"text-align: right;\">\n",
       "      <th></th>\n",
       "      <th></th>\n",
       "      <th>mean</th>\n",
       "      <th>std</th>\n",
       "    </tr>\n",
       "    <tr>\n",
       "      <th>Author</th>\n",
       "      <th>Work</th>\n",
       "      <th></th>\n",
       "      <th></th>\n",
       "    </tr>\n",
       "  </thead>\n",
       "  <tbody>\n",
       "    <tr>\n",
       "      <th>Catullus</th>\n",
       "      <th>Cat.</th>\n",
       "      <td>0.491109</td>\n",
       "      <td>0.312907</td>\n",
       "    </tr>\n",
       "    <tr>\n",
       "      <th rowspan=\"4\" valign=\"top\">Ovid</th>\n",
       "      <th>Am.</th>\n",
       "      <td>0.092543</td>\n",
       "      <td>0.056981</td>\n",
       "    </tr>\n",
       "    <tr>\n",
       "      <th>Ep.</th>\n",
       "      <td>0.091924</td>\n",
       "      <td>0.030277</td>\n",
       "    </tr>\n",
       "    <tr>\n",
       "      <th>Pont.</th>\n",
       "      <td>0.077970</td>\n",
       "      <td>0.042059</td>\n",
       "    </tr>\n",
       "    <tr>\n",
       "      <th>Tr.</th>\n",
       "      <td>0.085079</td>\n",
       "      <td>0.044752</td>\n",
       "    </tr>\n",
       "    <tr>\n",
       "      <th>Propertius</th>\n",
       "      <th>Prop.</th>\n",
       "      <td>0.235744</td>\n",
       "      <td>0.106460</td>\n",
       "    </tr>\n",
       "    <tr>\n",
       "      <th>Tibullus</th>\n",
       "      <th>Tib.</th>\n",
       "      <td>0.108010</td>\n",
       "      <td>0.047177</td>\n",
       "    </tr>\n",
       "    <tr>\n",
       "      <th rowspan=\"4\" valign=\"top\">ps-Ovid</th>\n",
       "      <th>Consolatio</th>\n",
       "      <td>0.242616</td>\n",
       "      <td>0.038150</td>\n",
       "    </tr>\n",
       "    <tr>\n",
       "      <th>Ibis</th>\n",
       "      <td>0.083271</td>\n",
       "      <td>0.044208</td>\n",
       "    </tr>\n",
       "    <tr>\n",
       "      <th>Medicamina</th>\n",
       "      <td>0.080000</td>\n",
       "      <td>NaN</td>\n",
       "    </tr>\n",
       "    <tr>\n",
       "      <th>Nux</th>\n",
       "      <td>0.082418</td>\n",
       "      <td>NaN</td>\n",
       "    </tr>\n",
       "  </tbody>\n",
       "</table>\n",
       "</div>"
      ],
      "text/plain": [
       "                           mean       std\n",
       "Author     Work                          \n",
       "Catullus   Cat.        0.491109  0.312907\n",
       "Ovid       Am.         0.092543  0.056981\n",
       "           Ep.         0.091924  0.030277\n",
       "           Pont.       0.077970  0.042059\n",
       "           Tr.         0.085079  0.044752\n",
       "Propertius Prop.       0.235744  0.106460\n",
       "Tibullus   Tib.        0.108010  0.047177\n",
       "ps-Ovid    Consolatio  0.242616  0.038150\n",
       "           Ibis        0.083271  0.044208\n",
       "           Medicamina  0.080000       NaN\n",
       "           Nux         0.082418       NaN"
      ]
     },
     "execution_count": 87,
     "metadata": {},
     "output_type": "execute_result"
    }
   ],
   "source": [
    "short_elegy.groupby(['Author','Work'])['ELC'].agg(['mean','std'])"
   ]
  }
 ],
 "metadata": {
  "kernelspec": {
   "display_name": "py310",
   "language": "python",
   "name": "python3"
  },
  "language_info": {
   "codemirror_mode": {
    "name": "ipython",
    "version": 3
   },
   "file_extension": ".py",
   "mimetype": "text/x-python",
   "name": "python",
   "nbconvert_exporter": "python",
   "pygments_lexer": "ipython3",
   "version": "3.10.11"
  },
  "orig_nbformat": 4
 },
 "nbformat": 4,
 "nbformat_minor": 2
}
